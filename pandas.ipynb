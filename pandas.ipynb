{
 "cells": [
  {
   "cell_type": "code",
   "execution_count": 2,
   "id": "b7dffd00",
   "metadata": {},
   "outputs": [],
   "source": [
    "import numpy as np\n",
    "import pandas as pd\n",
    "\n"
   ]
  },
  {
   "cell_type": "code",
   "execution_count": 3,
   "id": "bdc9915a",
   "metadata": {},
   "outputs": [
    {
     "name": "stdout",
     "output_type": "stream",
     "text": [
      "0    0.25\n",
      "1    0.50\n",
      "2    0.75\n",
      "3    1.00\n",
      "dtype: float64 [0.25 0.5  0.75 1.  ] RangeIndex(start=0, stop=4, step=1)\n",
      "0.5\n",
      "1    0.50\n",
      "2    0.75\n",
      "dtype: float64\n"
     ]
    }
   ],
   "source": [
    "data = pd.Series([0.25, 0.5, 0.75, 1.0])\n",
    "print(data, data.values, data.index)\n",
    "print(data[1])\n",
    "print(data[1:3])\n"
   ]
  },
  {
   "cell_type": "code",
   "execution_count": 5,
   "id": "c31c8534",
   "metadata": {},
   "outputs": [
    {
     "name": "stdout",
     "output_type": "stream",
     "text": [
      "0.5\n",
      "2    0.25\n",
      "5    0.50\n",
      "3    0.75\n",
      "7    1.00\n",
      "dtype: float64\n"
     ]
    }
   ],
   "source": [
    "data = pd.Series([0.25, 0.5, 0.75, 1.0], index = ['a', 'b','c','d'])\n",
    "print(data['b'])\n",
    "data = pd.Series([0.25, 0.5, 0.75, 1.0],\n",
    "                 index=[2, 5, 3, 7])\n",
    "print(data)"
   ]
  },
  {
   "cell_type": "code",
   "execution_count": 12,
   "id": "bdafab69",
   "metadata": {},
   "outputs": [
    {
     "name": "stdout",
     "output_type": "stream",
     "text": [
      "California    38332521\n",
      "Texas         26448193\n",
      "New York      19651127\n",
      "Florida       19552860\n",
      "Illinois      12882135\n",
      "dtype: int64\n",
      "38332521\n",
      "California    38332521\n",
      "Texas         26448193\n",
      "New York      19651127\n",
      "Florida       19552860\n",
      "Illinois      12882135\n",
      "dtype: int64\n",
      "California    423967\n",
      "Texas         695662\n",
      "New York      141297\n",
      "Florida       170312\n",
      "Illinois      149995\n",
      "dtype: int64\n"
     ]
    }
   ],
   "source": [
    "#series as python dictionary\n",
    "population_dict = {'California': 38332521,\n",
    "                   'Texas': 26448193,\n",
    "                   'New York': 19651127,\n",
    "                   'Florida': 19552860,\n",
    "                   'Illinois': 12882135}\n",
    "population = pd.Series(population_dict)\n",
    "print(population)\n",
    "print(population['California'])\n",
    "print(population['California':'Illinois'])\n",
    " #data can be a list, dictionary or scalar\n",
    "\n",
    "area_dict = {'California': 423967, 'Texas': 695662, 'New York': 141297,\n",
    "             'Florida': 170312, 'Illinois': 149995}\n",
    "area = pd.Series(area_dict)\n",
    "print(area)\n"
   ]
  },
  {
   "cell_type": "code",
   "execution_count": null,
   "id": "2d296135",
   "metadata": {},
   "outputs": [
    {
     "name": "stdout",
     "output_type": "stream",
     "text": [
      "            population\n",
      "California    38332521\n",
      "Texas         26448193\n",
      "New York      19651127\n",
      "Florida       19552860\n",
      "Illinois      12882135\n",
      "   a  b\n",
      "0  0  0\n",
      "1  1  2\n",
      "2  2  4\n",
      "     a  b    c\n",
      "0  1.0  2  NaN\n",
      "1  NaN  3  4.0\n",
      "            population    area\n",
      "California    38332521  423967\n",
      "Texas         26448193  695662\n",
      "New York      19651127  141297\n",
      "Florida       19552860  170312\n",
      "Illinois      12882135  149995 Index(['California', 'Texas', 'New York', 'Florida', 'Illinois'], dtype='object') Index(['population', 'area'], dtype='object')\n"
     ]
    }
   ],
   "source": [
    "#Constructing data frame objects\n",
    "\n",
    "data = pd.DataFrame(population, columns = ['population'])\n",
    "print(data) #data frame from series\n",
    "\n",
    "\n",
    "data = [{'a':i, 'b':2*i} for i in range(3)]\n",
    "data = pd.DataFrame(data)\n",
    "print(data)#data frame from a series\n",
    "\n",
    "data = pd.DataFrame([{'a': 1, 'b': 2},{'b': 3, 'c': 4}])\n",
    "print(data)#data frame from a list of dictionaries\n",
    "\n",
    "states = pd.DataFrame({'population': population,\n",
    "              'area': area})\n",
    "print(states, states.index, states.columns)#dataframe from dictionary of series objects\n"
   ]
  },
  {
   "cell_type": "code",
   "execution_count": null,
   "id": "164c97fb",
   "metadata": {},
   "outputs": [
    {
     "name": "stdout",
     "output_type": "stream",
     "text": [
      "        foo       bar\n",
      "a  0.201598  0.096593\n",
      "b  0.770470  0.562171\n",
      "c  0.520397  0.581527\n"
     ]
    }
   ],
   "source": [
    "data = pd.DataFrame(np.random.rand(3, 2),\n",
    "             columns=['foo', 'bar'],\n",
    "             index=['a', 'b', 'c'])\n",
    "print(data)\n",
    "pd.DataFrame(np.zeroes(3))"
   ]
  },
  {
   "cell_type": "code",
   "execution_count": 18,
   "id": "c2785c92",
   "metadata": {},
   "outputs": [
    {
     "name": "stdout",
     "output_type": "stream",
     "text": [
      "3 Index([2, 5, 11], dtype='int64')\n",
      "5 (5,) 1 int64\n",
      "Index([0, 3, 5, 7, 9], dtype='int64') Index([3, 3, 5, 7, 11], dtype='int64') Index([3, 0, 0, 0, 2], dtype='int64')\n"
     ]
    }
   ],
   "source": [
    "#pandas index object\n",
    "#series and data frames have explicitly defined index so index object in pandas is a structure in itself\n",
    "#index can be treated as a immutable array or as an ordered set\n",
    "ind = pd.Index([2,3,5,7,11])\n",
    "print(ind[1], ind[::2])\n",
    "print(ind.size, ind.shape, ind.ndim, ind.dtype)\n",
    "#however ind[1] = 0 would throw error\n",
    "\n",
    "indA = pd.Index([1, 3, 5, 7, 9])\n",
    "indB = pd.Index([2, 3, 5, 7, 11])\n",
    "print(indA & indB, indA | indB, indA ^ indB)\n"
   ]
  }
 ],
 "metadata": {
  "kernelspec": {
   "display_name": "base",
   "language": "python",
   "name": "python3"
  },
  "language_info": {
   "codemirror_mode": {
    "name": "ipython",
    "version": 3
   },
   "file_extension": ".py",
   "mimetype": "text/x-python",
   "name": "python",
   "nbconvert_exporter": "python",
   "pygments_lexer": "ipython3",
   "version": "3.12.7"
  }
 },
 "nbformat": 4,
 "nbformat_minor": 5
}
