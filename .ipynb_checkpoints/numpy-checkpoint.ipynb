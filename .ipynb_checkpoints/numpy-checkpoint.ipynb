{
 "cells": [
  {
   "cell_type": "code",
   "execution_count": 3,
   "metadata": {},
   "outputs": [
    {
     "name": "stdout",
     "output_type": "stream",
     "text": [
      "[1 4 2 5 3]\n",
      "[1. 2. 3. 4.]\n",
      "[[2 3 4]\n",
      " [4 5 6]\n",
      " [6 7 8]]\n"
     ]
    }
   ],
   "source": [
    "import numpy as np\n",
    "arr1 = np.array([1,4,2,5,3])#creating numpy array\n",
    "print(arr1)\n",
    "arr2 = np.array([1,2,3,4], dtype = float) #explicitly mentioning the data type of resulting array\n",
    "print(arr2)\n",
    "arr3 = np.array([list(range(i, i+3)) for i in [2,4,6]])#creating 2d arrays\n",
    "print(arr3)"
   ]
  },
  {
   "cell_type": "code",
   "execution_count": 5,
   "metadata": {},
   "outputs": [
    {
     "name": "stdout",
     "output_type": "stream",
     "text": [
      "[0 0 0 0 0 0 0 0 0 0]\n",
      "[[1. 1. 1. 1. 1.]\n",
      " [1. 1. 1. 1. 1.]\n",
      " [1. 1. 1. 1. 1.]]\n",
      "[[3.14 3.14 3.14 3.14 3.14]\n",
      " [3.14 3.14 3.14 3.14 3.14]\n",
      " [3.14 3.14 3.14 3.14 3.14]]\n",
      "[ 0  2  4  6  8 10 12 14 16 18]\n",
      "[[0.95779631 0.56307621 0.84396251]\n",
      " [0.6176366  0.65967916 0.57069545]\n",
      " [0.78789462 0.24881073 0.90054092]]\n",
      "[[1 1 5]\n",
      " [5 2 2]\n",
      " [9 7 0]]\n",
      "[3. 2. 1.]\n"
     ]
    }
   ],
   "source": [
    "import numpy as np\n",
    "arr0 = np.zeros(10, dtype = int)\n",
    "print(arr0)\n",
    "arr1 = np.ones((3,5), dtype = float)\n",
    "print(arr1)\n",
    "arr_of_choice = np.full((3,5), 3.14)\n",
    "print(arr_of_choice)\n",
    "arr_seq = np.arange(0, 20, 2)\n",
    "print(arr_seq)\n",
    "arr_random1 = np.random.random((3,3))\n",
    "print(arr_random1)\n",
    "arr_random2 = np.random.randint(0,10,(3,3))\n",
    "print(arr_random2)\n",
    "arr_identity = np.eye(3)\n",
    "arr_empty = np.empty(3)\n",
    "print(arr_empty)"
   ]
  },
  {
   "cell_type": "code",
   "execution_count": 7,
   "metadata": {},
   "outputs": [
    {
     "name": "stdout",
     "output_type": "stream",
     "text": [
      "[8 9 4 7 7 7]\n",
      "7\n",
      "[[7 9 3 5]\n",
      " [2 4 7 6]\n",
      " [8 8 1 6]]\n",
      "6\n"
     ]
    }
   ],
   "source": [
    "#Accessing Numpy arrays\n",
    "np.random.seed(0)\n",
    "x1 = np.random.randint(4, 10, size = 6)\n",
    "print(x1)\n",
    "print(x1[-1])\n",
    "x2 = np.random.randint(10, size =(3,4))\n",
    "print(x2)\n",
    "print(x2[2,-1])"
   ]
  },
  {
   "cell_type": "code",
   "execution_count": 9,
   "metadata": {},
   "outputs": [
    {
     "name": "stdout",
     "output_type": "stream",
     "text": [
      "[5 6 7 8 9] [0 1 2 3 4] [5 3 1]\n",
      "[[8 9]\n",
      " [8 0]\n",
      " [9 9]] [[8 3]\n",
      " [8 5]\n",
      " [9 5]]\n",
      "[[7 5 9 9]\n",
      " [3 5 0 8]\n",
      " [8 3 9 8]]\n",
      "[8 9 3 8]\n",
      "[8 8 9]\n",
      "[[8 9]\n",
      " [8 0]]\n",
      "[[99  9  3  8]\n",
      " [ 8  0  5  3]\n",
      " [ 9  9  5  7]]\n",
      "[[99  9  3  8]\n",
      " [ 8  0  5  3]\n",
      " [ 9  9  5  7]]\n"
     ]
    }
   ],
   "source": [
    "#Slicing in numpy arrays\n",
    "np.random.seed(3)\n",
    "x = np.arange(10)\n",
    "print(x[5:], x[:5], x[5::-2])\n",
    "x2 = np.random.randint(10, size =(3,4))\n",
    "print(x2[:3, :2],x2[:3, ::2]) #2 rows, 3 cols  and all rows, alternate cols\n",
    "print(x2[::-1, ::-1]) #reversing 2d array\n",
    "print(x2[0]) #accessing 1st row\n",
    "#can also be written as x2[0, :]\n",
    "print(x2[:, 0]) #accessing 1st column\n",
    "\n",
    "#numpy slices are views not a copy like lists in python\n",
    "x2_sub = x2[:2, :2]\n",
    "print(x2_sub)\n",
    "x2[0,0] = 99\n",
    "print(x2)\n",
    " #using .copy() to create shallow copies\n",
    "x2_sub_copy = x2[:2,:2].copy()\n",
    "x2_sub_copy[0, 0] = 55\n",
    "print(x2)"
   ]
  },
  {
   "cell_type": "code",
   "execution_count": 11,
   "metadata": {},
   "outputs": [
    {
     "name": "stdout",
     "output_type": "stream",
     "text": [
      "[1 2 3 3 2 1 1 2 3 3 2 1]\n",
      "[[1 2 3]\n",
      " [4 5 6]\n",
      " [1 2 3]\n",
      " [4 5 6]]\n",
      "[[1 2 3 1 2 3]\n",
      " [4 5 6 4 5 6]]\n",
      "[1 2 3 3 2 1 1 2 3 3 2 1]\n",
      "[[1 2 3]\n",
      " [9 8 7]\n",
      " [6 5 4]]\n",
      "[[ 9  8  7 99]\n",
      " [ 6  5  4 99]]\n"
     ]
    }
   ],
   "source": [
    "#reshaping of arrays\n",
    "# x = np.arange(1,10).reshape(3,3)\n",
    "# print(x)\n",
    "\n",
    "#concatenation of 1d arrays\n",
    "x = np.array([1,2,3])\n",
    "y = np.array([3,2,1])\n",
    "z = np.concatenate([x,y])\n",
    "z = np.concatenate([x,y,z])\n",
    "print(z)\n",
    "#concatenation of 2d arrays\n",
    "grid = np.array([[1,2,3],[4,5,6]])\n",
    "p = np.concatenate([grid, grid], axis = 0)\n",
    "q = np.concatenate([grid,grid], axis = 1)\n",
    "print(p)\n",
    "print(q)\n",
    "print(z)\n",
    "grid = np.array([[9,8,7],[6,5,4]])\n",
    "a = np.vstack([x,grid])\n",
    "print(a)\n",
    "b = np.array([[99],[99]])\n",
    "b = np.hstack([grid,b])\n",
    "print(b)"
   ]
  },
  {
   "cell_type": "code",
   "execution_count": 17,
   "metadata": {},
   "outputs": [
    {
     "name": "stdout",
     "output_type": "stream",
     "text": [
      "[1 2 3] [99 99] [3 2 1]\n",
      "[[0 1 2 3]\n",
      " [4 5 6 7]] [[ 8  9 10 11]\n",
      " [12 13 14 15]]\n",
      "[[ 0  1]\n",
      " [ 4  5]\n",
      " [ 8  9]\n",
      " [12 13]] [[ 2  3]\n",
      " [ 6  7]\n",
      " [10 11]\n",
      " [14 15]]\n"
     ]
    }
   ],
   "source": [
    "#splitting of arrays\n",
    "#splitting of arrays\n",
    "x = [1,2,3,99,99,3,2,1]\n",
    "x1, x2, x3 = np.split(x, [3,5])\n",
    "print(x1, x2, x3)\n",
    "grid = np.arange(16).reshape(4,4)\n",
    "upper, lower = np.vsplit(grid, [2])\n",
    "print(upper,lower)\n",
    "left, right = np.hsplit(grid, [2])\n",
    "print(left, right)"
   ]
  },
  {
   "cell_type": "code",
   "execution_count": 25,
   "metadata": {},
   "outputs": [
    {
     "name": "stdout",
     "output_type": "stream",
     "text": [
      "[ 0 -1 -2 -3] [5 6 7 8] [-2 -1  0  1] [0 2 4 6] [0.  0.5 1.  1.5] [0 0 1 1] [0.         1.         1.41421356 1.73205081] [0 1 0 1]\n",
      "[-1.   -2.25 -4.   -6.25]\n",
      "[2 1 0 1 2]\n"
     ]
    }
   ],
   "source": [
    "# Array Arithmetic\n",
    "\n",
    "x = np.arange(4)\n",
    "print(-x, x + 5, x - 2, x * 2, x / 2, x // 2, x ** 0.5, x % 2)\n",
    "print(-(0.5 * x + 1) ** 2)\n",
    "x = np.array([-2, -1, 0, 1, 2])\n",
    "print(np.abs(x))"
   ]
  }
 ],
 "metadata": {
  "kernelspec": {
   "display_name": "Python [conda env:base] *",
   "language": "python",
   "name": "conda-base-py"
  },
  "language_info": {
   "codemirror_mode": {
    "name": "ipython",
    "version": 3
   },
   "file_extension": ".py",
   "mimetype": "text/x-python",
   "name": "python",
   "nbconvert_exporter": "python",
   "pygments_lexer": "ipython3",
   "version": "3.12.7"
  }
 },
 "nbformat": 4,
 "nbformat_minor": 4
}
