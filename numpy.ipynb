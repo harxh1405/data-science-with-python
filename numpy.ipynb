{
 "cells": [
  {
   "cell_type": "code",
   "execution_count": 21,
   "metadata": {},
   "outputs": [
    {
     "name": "stdout",
     "output_type": "stream",
     "text": [
      "[1 4 2 5 3]\n",
      "[1. 2. 3. 4.]\n",
      "[[2 3 4]\n",
      " [4 5 6]\n",
      " [6 7 8]]\n"
     ]
    }
   ],
   "source": [
    "import numpy as np\n",
    "arr1 = np.array([1,4,2,5,3])#creating numpy array\n",
    "print(arr1)\n",
    "arr2 = np.array([1,2,3,4], dtype = float) #explicitly mentioning the data type of resulting array\n",
    "print(arr2)\n",
    "arr3 = np.array([list(range(i, i+3)) for i in [2,4,6]])#creating 2d arrays\n",
    "print(arr3)"
   ]
  },
  {
   "cell_type": "code",
   "execution_count": 25,
   "metadata": {},
   "outputs": [
    {
     "name": "stdout",
     "output_type": "stream",
     "text": [
      "[0 0 0 0 0 0 0 0 0 0]\n",
      "[[1. 1. 1. 1. 1.]\n",
      " [1. 1. 1. 1. 1.]\n",
      " [1. 1. 1. 1. 1.]]\n",
      "[[3.14 3.14 3.14 3.14 3.14]\n",
      " [3.14 3.14 3.14 3.14 3.14]\n",
      " [3.14 3.14 3.14 3.14 3.14]]\n",
      "[ 0  2  4  6  8 10 12 14 16 18]\n",
      "[[0.81216873 0.47997717 0.3927848 ]\n",
      " [0.83607876 0.33739616 0.64817187]\n",
      " [0.36824154 0.95715516 0.14035078]]\n",
      "[[0 2 3]\n",
      " [8 1 3]\n",
      " [3 3 7]]\n",
      "[3. 2. 1.]\n"
     ]
    }
   ],
   "source": [
    "import numpy as np\n",
    "arr0 = np.zeros(10, dtype = int)\n",
    "print(arr0)\n",
    "arr1 = np.ones((3,5), dtype = float)\n",
    "\n",
    "print(arr1)\n",
    "arr_of_choice = np.full((3,5), 3.14)\n",
    "print(arr_of_choice)\n",
    "arr_seq = np.arange(0, 20, 2)\n",
    "print(arr_seq)\n",
    "arr_random1 = np.random.random((3,3))\n",
    "print(arr_random1)\n",
    "arr_random2 = np.random.randint(0,10,(3,3))\n",
    "print(arr_random2)\n",
    "arr_identity = np.eye(3)\n",
    "arr_empty = np.empty(3)\n",
    "print(arr_empty)"
   ]
  },
  {
   "cell_type": "code",
   "execution_count": 27,
   "metadata": {},
   "outputs": [
    {
     "name": "stdout",
     "output_type": "stream",
     "text": [
      "[8 9 4 7 7 7]\n",
      "7\n",
      "[[7 9 3 5]\n",
      " [2 4 7 6]\n",
      " [8 8 1 6]]\n",
      "6\n"
     ]
    }
   ],
   "source": [
    "#Accessing Numpy arrays\n",
    "np.random.seed(0)\n",
    "x1 = np.random.randint(4, 10, size = 6)\n",
    "print(x1)\n",
    "print(x1[-1])\n",
    "x2 = np.random.randint(10, size =(3,4))\n",
    "print(x2)\n",
    "print(x2[2,-1])"
   ]
  },
  {
   "cell_type": "code",
   "execution_count": 29,
   "metadata": {},
   "outputs": [
    {
     "name": "stdout",
     "output_type": "stream",
     "text": [
      "[5 6 7 8 9] [0 1 2 3 4] [5 3 1]\n",
      "[[8 9]\n",
      " [8 0]\n",
      " [9 9]] [[8 3]\n",
      " [8 5]\n",
      " [9 5]]\n",
      "[[7 5 9 9]\n",
      " [3 5 0 8]\n",
      " [8 3 9 8]]\n",
      "[8 9 3 8]\n",
      "[8 8 9]\n",
      "[[8 9]\n",
      " [8 0]]\n",
      "[[99  9  3  8]\n",
      " [ 8  0  5  3]\n",
      " [ 9  9  5  7]]\n",
      "[[99  9  3  8]\n",
      " [ 8  0  5  3]\n",
      " [ 9  9  5  7]]\n"
     ]
    }
   ],
   "source": [
    "#Slicing in numpy arrays\n",
    "np.random.seed(3)\n",
    "x = np.arange(10)\n",
    "print(x[5:], x[:5], x[5::-2])\n",
    "x2 = np.random.randint(10, size =(3,4))\n",
    "print(x2[:3, :2],x2[:3, ::2]) #2 rows, 3 cols  and all rows, alternate cols\n",
    "print(x2[::-1, ::-1]) #reversing 2d array\n",
    "print(x2[0]) #accessing 1st row\n",
    "#can also be written as x2[0, :]\n",
    "print(x2[:, 0]) #accessing 1st column\n",
    "\n",
    "#numpy slices are views not a copy like lists in python\n",
    "x2_sub = x2[:2, :2]\n",
    "print(x2_sub)\n",
    "x2[0,0] = 99\n",
    "print(x2)\n",
    " #using .copy() to create shallow copies\n",
    "x2_sub_copy = x2[:2,:2].copy()\n",
    "x2_sub_copy[0, 0] = 55\n",
    "print(x2)"
   ]
  },
  {
   "cell_type": "code",
   "execution_count": 31,
   "metadata": {},
   "outputs": [
    {
     "name": "stdout",
     "output_type": "stream",
     "text": [
      "[1 2 3 3 2 1 1 2 3 3 2 1]\n",
      "[[1 2 3]\n",
      " [4 5 6]\n",
      " [1 2 3]\n",
      " [4 5 6]]\n",
      "[[1 2 3 1 2 3]\n",
      " [4 5 6 4 5 6]]\n",
      "[1 2 3 3 2 1 1 2 3 3 2 1]\n",
      "[[1 2 3]\n",
      " [9 8 7]\n",
      " [6 5 4]]\n",
      "[[ 9  8  7 99]\n",
      " [ 6  5  4 99]]\n"
     ]
    }
   ],
   "source": [
    "#reshaping of arrays\n",
    "# x = np.arange(1,10).reshape(3,3)\n",
    "# print(x)\n",
    "\n",
    "#concatenation of 1d arrays\n",
    "x = np.array([1,2,3])\n",
    "y = np.array([3,2,1])\n",
    "z = np.concatenate([x,y])\n",
    "z = np.concatenate([x,y,z])\n",
    "print(z)\n",
    "#concatenation of 2d arrays\n",
    "grid = np.array([[1,2,3],[4,5,6]])\n",
    "p = np.concatenate([grid, grid], axis = 0)\n",
    "q = np.concatenate([grid,grid], axis = 1)\n",
    "print(p)\n",
    "print(q)\n",
    "print(z)\n",
    "grid = np.array([[9,8,7],[6,5,4]])\n",
    "a = np.vstack([x,grid])\n",
    "print(a)\n",
    "b = np.array([[99],[99]])\n",
    "b = np.hstack([grid,b])\n",
    "print(b)"
   ]
  },
  {
   "cell_type": "code",
   "execution_count": 33,
   "metadata": {},
   "outputs": [
    {
     "name": "stdout",
     "output_type": "stream",
     "text": [
      "[1 2 3] [99 99] [3 2 1]\n",
      "[[0 1 2 3]\n",
      " [4 5 6 7]] [[ 8  9 10 11]\n",
      " [12 13 14 15]]\n",
      "[[ 0  1]\n",
      " [ 4  5]\n",
      " [ 8  9]\n",
      " [12 13]] [[ 2  3]\n",
      " [ 6  7]\n",
      " [10 11]\n",
      " [14 15]]\n"
     ]
    }
   ],
   "source": [
    "#splitting of arrays\n",
    "#splitting of arrays\n",
    "x = [1,2,3,99,99,3,2,1]\n",
    "x1, x2, x3 = np.split(x, [3,5])\n",
    "print(x1, x2, x3)\n",
    "grid = np.arange(16).reshape(4,4)\n",
    "upper, lower = np.vsplit(grid, [2])\n",
    "print(upper,lower)\n",
    "left, right = np.hsplit(grid, [2])\n",
    "print(left, right)"
   ]
  },
  {
   "cell_type": "code",
   "execution_count": 35,
   "metadata": {},
   "outputs": [
    {
     "name": "stdout",
     "output_type": "stream",
     "text": [
      "[ 0 -1 -2 -3] [5 6 7 8] [-2 -1  0  1] [0 2 4 6] [0.  0.5 1.  1.5] [0 0 1 1] [0.         1.         1.41421356 1.73205081] [0 1 0 1]\n",
      "[-1.   -2.25 -4.   -6.25]\n",
      "[2 1 0 1 2]\n"
     ]
    }
   ],
   "source": [
    "# Array Arithmetic\n",
    "\n",
    "x = np.arange(4)\n",
    "print(-x, x + 5, x - 2, x * 2, x / 2, x // 2, x ** 0.5, x % 2)\n",
    "print(-(0.5 * x + 1) ** 2)\n",
    "x = np.array([-2, -1, 0, 1, 2])\n",
    "print(np.abs(x))"
   ]
  },
  {
   "cell_type": "code",
   "execution_count": 89,
   "metadata": {},
   "outputs": [
    {
     "name": "stdout",
     "output_type": "stream",
     "text": [
      "[0.         1.57079633 3.14159265]\n",
      "[0.0000000e+00 1.0000000e+00 1.2246468e-16]\n",
      "[ 1.000000e+00  6.123234e-17 -1.000000e+00]\n",
      "[ 0.00000000e+00  1.63312394e+16 -1.22464680e-16]\n",
      "[-1, 0, 1]\n",
      "[-1.57079633  0.          1.57079633]\n",
      "[3.14159265 1.57079633 0.        ]\n",
      "[-0.78539816  0.          0.78539816]\n",
      "[ 2.71828183  7.3890561  20.08553692]\n",
      "[2. 4. 8.]\n",
      "[0.        1.        1.5849625]\n",
      "[0.         0.30103    0.47712125]\n",
      "exp(x) - 1 = [0.         0.0010005  0.01005017 0.10517092]\n",
      "log(1 + x) = [0.         0.0009995  0.00995033 0.09531018]\n",
      "3^x   = [1.         1.00109922 1.01104669 1.11612317]\n"
     ]
    }
   ],
   "source": [
    "\n",
    "theta = np.linspace(0,np.pi,3)\n",
    "print(theta)\n",
    "print(np.sin(theta))\n",
    "print(np.cos(theta))\n",
    "print(np.tan(theta))\n",
    "x = [-1, 0, 1]\n",
    "print(x)\n",
    "print( np.arcsin(x))\n",
    "print( np.arccos(x))\n",
    "print( np.arctan(x))\n",
    "x = [1,2,3]\n",
    "print(np.exp(x))\n",
    "print(np.exp2(x))\n",
    "print(np.log2(x))\n",
    "print(np.log10(x))\n",
    "x = [0, 0.001, 0.01, 0.1]\n",
    "print(\"exp(x) - 1 =\", np.expm1(x))\n",
    "print(\"log(1 + x) =\", np.log1p(x))\n",
    "print(\"3^x   =\", np.power(3, x))"
   ]
  },
  {
   "cell_type": "code",
   "execution_count": null,
   "metadata": {},
   "outputs": [],
   "source": []
  }
 ],
 "metadata": {
  "kernelspec": {
   "display_name": "Python [conda env:base] *",
   "language": "python",
   "name": "conda-base-py"
  },
  "language_info": {
   "codemirror_mode": {
    "name": "ipython",
    "version": 3
   },
   "file_extension": ".py",
   "mimetype": "text/x-python",
   "name": "python",
   "nbconvert_exporter": "python",
   "pygments_lexer": "ipython3",
   "version": "3.12.7"
  }
 },
 "nbformat": 4,
 "nbformat_minor": 4
}
