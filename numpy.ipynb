{
 "cells": [
  {
   "cell_type": "code",
   "execution_count": 2,
   "metadata": {},
   "outputs": [
    {
     "name": "stdout",
     "output_type": "stream",
     "text": [
      "[1 4 2 5 3]\n",
      "[1. 2. 3. 4.]\n",
      "[[2 3 4]\n",
      " [4 5 6]\n",
      " [6 7 8]]\n"
     ]
    }
   ],
   "source": [
    "import numpy as np\n",
    "arr1 = np.array([1,4,2,5,3])#creating numpy array\n",
    "print(arr1)\n",
    "arr2 = np.array([1,2,3,4], dtype = float) #explicitly mentioning the data type of resulting array\n",
    "print(arr2)\n",
    "arr3 = np.array([list(range(i, i+3)) for i in [2,4,6]])#creating 2d arrays\n",
    "print(arr3)"
   ]
  },
  {
   "cell_type": "code",
   "execution_count": 3,
   "metadata": {},
   "outputs": [
    {
     "name": "stdout",
     "output_type": "stream",
     "text": [
      "[0 0 0 0 0 0 0 0 0 0]\n",
      "[[1. 1. 1. 1. 1.]\n",
      " [1. 1. 1. 1. 1.]\n",
      " [1. 1. 1. 1. 1.]]\n",
      "[[3.14 3.14 3.14 3.14 3.14]\n",
      " [3.14 3.14 3.14 3.14 3.14]\n",
      " [3.14 3.14 3.14 3.14 3.14]]\n",
      "[ 0  2  4  6  8 10 12 14 16 18]\n",
      "[[0.88813181 0.1339567  0.11229086]\n",
      " [0.34195796 0.44047926 0.028289  ]\n",
      " [0.49447143 0.68396186 0.74069599]]\n",
      "[[4 1 0]\n",
      " [3 9 8]\n",
      " [4 8 0]]\n",
      "[3. 2. 1.]\n"
     ]
    }
   ],
   "source": [
    "import numpy as np\n",
    "arr0 = np.zeros(10, dtype = int)\n",
    "print(arr0)\n",
    "arr1 = np.ones((3,5), dtype = float)\n",
    "\n",
    "print(arr1)\n",
    "arr_of_choice = np.full((3,5), 3.14)\n",
    "print(arr_of_choice)\n",
    "arr_seq = np.arange(0, 20, 2)\n",
    "print(arr_seq)\n",
    "arr_random1 = np.random.random((3,3))\n",
    "print(arr_random1)\n",
    "arr_random2 = np.random.randint(0,10,(3,3))\n",
    "print(arr_random2)\n",
    "arr_identity = np.eye(3)\n",
    "arr_empty = np.empty(3)\n",
    "print(arr_empty)"
   ]
  },
  {
   "cell_type": "code",
   "execution_count": 27,
   "metadata": {},
   "outputs": [
    {
     "name": "stdout",
     "output_type": "stream",
     "text": [
      "[8 9 4 7 7 7]\n",
      "7\n",
      "[[7 9 3 5]\n",
      " [2 4 7 6]\n",
      " [8 8 1 6]]\n",
      "6\n"
     ]
    }
   ],
   "source": [
    "#Accessing Numpy arrays\n",
    "np.random.seed(0)\n",
    "x1 = np.random.randint(4, 10, size = 6)\n",
    "print(x1)\n",
    "print(x1[-1])\n",
    "x2 = np.random.randint(10, size =(3,4))\n",
    "print(x2)\n",
    "print(x2[2,-1])"
   ]
  },
  {
   "cell_type": "code",
   "execution_count": 4,
   "metadata": {},
   "outputs": [
    {
     "name": "stdout",
     "output_type": "stream",
     "text": [
      "[5 6 7 8 9] [0 1 2 3 4] [5 3 1]\n",
      "[[8 9]\n",
      " [8 0]\n",
      " [9 9]] [[8 3]\n",
      " [8 5]\n",
      " [9 5]]\n",
      "[[7 5 9 9]\n",
      " [3 5 0 8]\n",
      " [8 3 9 8]]\n",
      "[8 9 3 8]\n",
      "[8 8 9]\n",
      "[[8 9]\n",
      " [8 0]]\n",
      "[[99  9  3  8]\n",
      " [ 8  0  5  3]\n",
      " [ 9  9  5  7]]\n",
      "[[99  9  3  8]\n",
      " [ 8  0  5  3]\n",
      " [ 9  9  5  7]]\n"
     ]
    }
   ],
   "source": [
    "#Slicing in numpy arrays\n",
    "np.random.seed(3)\n",
    "x = np.arange(10)\n",
    "print(x[5:], x[:5], x[5::-2])\n",
    "x2 = np.random.randint(10, size =(3,4))\n",
    "print(x2[:3, :2],x2[:3, ::2]) #2 rows, 3 cols  and all rows, alternate cols\n",
    "print(x2[::-1, ::-1]) #reversing 2d array\n",
    "print(x2[0]) #accessing 1st row\n",
    "#can also be written as x2[0, :]\n",
    "print(x2[:, 0]) #accessing 1st column\n",
    "\n",
    "#numpy slices are views not a copy like lists in python\n",
    "x2_sub = x2[:2, :2]\n",
    "print(x2_sub)\n",
    "x2[0,0] = 99\n",
    "print(x2)\n",
    " #using .copy() to create shallow copies\n",
    "x2_sub_copy = x2[:2,:2].copy()\n",
    "x2_sub_copy[0, 0] = 55\n",
    "print(x2)"
   ]
  },
  {
   "cell_type": "code",
   "execution_count": 5,
   "metadata": {},
   "outputs": [
    {
     "name": "stdout",
     "output_type": "stream",
     "text": [
      "[1 2 3 3 2 1 1 2 3 3 2 1]\n",
      "[[1 2 3]\n",
      " [4 5 6]\n",
      " [1 2 3]\n",
      " [4 5 6]]\n",
      "[[1 2 3 1 2 3]\n",
      " [4 5 6 4 5 6]]\n",
      "[1 2 3 3 2 1 1 2 3 3 2 1]\n",
      "[[1 2 3]\n",
      " [9 8 7]\n",
      " [6 5 4]]\n",
      "[[ 9  8  7 99]\n",
      " [ 6  5  4 99]]\n"
     ]
    }
   ],
   "source": [
    "#reshaping of arrays\n",
    "# x = np.arange(1,10).reshape(3,3)\n",
    "# print(x)\n",
    "\n",
    "#concatenation of 1d arrays\n",
    "x = np.array([1,2,3])\n",
    "y = np.array([3,2,1])\n",
    "z = np.concatenate([x,y])\n",
    "z = np.concatenate([x,y,z])\n",
    "print(z)\n",
    "#concatenation of 2d arrays\n",
    "grid = np.array([[1,2,3],[4,5,6]])\n",
    "p = np.concatenate([grid, grid], axis = 0)\n",
    "q = np.concatenate([grid,grid], axis = 1)\n",
    "print(p)\n",
    "print(q)\n",
    "print(z)\n",
    "grid = np.array([[9,8,7],[6,5,4]])\n",
    "a = np.vstack([x,grid])\n",
    "print(a)\n",
    "b = np.array([[99],[99]])\n",
    "b = np.hstack([grid,b])\n",
    "print(b)"
   ]
  },
  {
   "cell_type": "code",
   "execution_count": 6,
   "metadata": {},
   "outputs": [
    {
     "name": "stdout",
     "output_type": "stream",
     "text": [
      "[1 2 3] [99 99] [3 2 1]\n",
      "[[0 1 2 3]\n",
      " [4 5 6 7]] [[ 8  9 10 11]\n",
      " [12 13 14 15]]\n",
      "[[ 0  1]\n",
      " [ 4  5]\n",
      " [ 8  9]\n",
      " [12 13]] [[ 2  3]\n",
      " [ 6  7]\n",
      " [10 11]\n",
      " [14 15]]\n"
     ]
    }
   ],
   "source": [
    "#splitting of arrays\n",
    "#splitting of arrays\n",
    "x = [1,2,3,99,99,3,2,1]\n",
    "x1, x2, x3 = np.split(x, [3,5])\n",
    "print(x1, x2, x3)\n",
    "grid = np.arange(16).reshape(4,4)\n",
    "upper, lower = np.vsplit(grid, [2])\n",
    "print(upper,lower)\n",
    "left, right = np.hsplit(grid, [2])\n",
    "print(left, right)"
   ]
  },
  {
   "cell_type": "code",
   "execution_count": 7,
   "metadata": {},
   "outputs": [
    {
     "name": "stdout",
     "output_type": "stream",
     "text": [
      "[ 0 -1 -2 -3] [5 6 7 8] [-2 -1  0  1] [0 2 4 6] [0.  0.5 1.  1.5] [0 0 1 1] [0.         1.         1.41421356 1.73205081] [0 1 0 1]\n",
      "[-1.   -2.25 -4.   -6.25]\n",
      "[2 1 0 1 2]\n"
     ]
    }
   ],
   "source": [
    "# Array Arithmetic\n",
    "\n",
    "x = np.arange(4)\n",
    "print(-x, x + 5, x - 2, x * 2, x / 2, x // 2, x ** 0.5, x % 2)\n",
    "print(-(0.5 * x + 1) ** 2)\n",
    "x = np.array([-2, -1, 0, 1, 2])\n",
    "print(np.abs(x))"
   ]
  },
  {
   "cell_type": "code",
   "execution_count": 8,
   "metadata": {},
   "outputs": [
    {
     "name": "stdout",
     "output_type": "stream",
     "text": [
      "[0.         1.57079633 3.14159265]\n",
      "[0.0000000e+00 1.0000000e+00 1.2246468e-16]\n",
      "[ 1.000000e+00  6.123234e-17 -1.000000e+00]\n",
      "[ 0.00000000e+00  1.63312394e+16 -1.22464680e-16]\n",
      "[-1, 0, 1]\n",
      "[-1.57079633  0.          1.57079633]\n",
      "[3.14159265 1.57079633 0.        ]\n",
      "[-0.78539816  0.          0.78539816]\n",
      "[ 2.71828183  7.3890561  20.08553692]\n",
      "[2. 4. 8.]\n",
      "[0.        1.        1.5849625]\n",
      "[0.         0.30103    0.47712125]\n",
      "exp(x) - 1 = [0.         0.0010005  0.01005017 0.10517092]\n",
      "log(1 + x) = [0.         0.0009995  0.00995033 0.09531018]\n",
      "3^x   = [1.         1.00109922 1.01104669 1.11612317]\n"
     ]
    }
   ],
   "source": [
    "#trigonometric, logarthmic and exponential functions\n",
    "theta = np.linspace(0,np.pi,3)\n",
    "print(theta)\n",
    "print(np.sin(theta))\n",
    "print(np.cos(theta))\n",
    "print(np.tan(theta))\n",
    "x = [-1, 0, 1]\n",
    "print(x)\n",
    "print( np.arcsin(x))\n",
    "print( np.arccos(x))\n",
    "print( np.arctan(x))\n",
    "x = [1,2,3]\n",
    "print(np.exp(x))\n",
    "print(np.exp2(x))\n",
    "print(np.log2(x))\n",
    "print(np.log10(x))\n",
    "x = [0, 0.001, 0.01, 0.1]\n",
    "print(\"exp(x) - 1 =\", np.expm1(x))\n",
    "print(\"log(1 + x) =\", np.log1p(x))\n",
    "print(\"3^x   =\", np.power(3, x))"
   ]
  },
  {
   "cell_type": "code",
   "execution_count": 9,
   "metadata": {},
   "outputs": [
    {
     "name": "stdout",
     "output_type": "stream",
     "text": [
      "[ 0. 10. 20. 30. 40.]\n",
      "[ 1.  0.  2.  0.  4.  0.  8.  0. 16.  0.]\n"
     ]
    }
   ],
   "source": [
    "#For large calculations, it is sometimes useful to be able to specify the array where the result of the calculation will be stored. Rather than creating a temporary array, this can be used to write computation results directly to the memory location where you'd like them to be\n",
    "x = np.arange(5)\n",
    "y = np.empty(5)\n",
    "# print(x,y)\n",
    "np.multiply(x, 10, y)\n",
    "print(y)\n",
    "y = np.zeros(10)\n",
    "np.power(2,x, y[::2])\n",
    "print(y)"
   ]
  },
  {
   "cell_type": "code",
   "execution_count": 10,
   "metadata": {},
   "outputs": [
    {
     "name": "stdout",
     "output_type": "stream",
     "text": [
      "15\n",
      "120\n",
      "[ 1  3  6 10 15]\n",
      "[  1   2   6  24 120]\n",
      "[[ 1  2  3  4  5]\n",
      " [ 2  4  6  8 10]\n",
      " [ 3  6  9 12 15]\n",
      " [ 4  8 12 16 20]\n",
      " [ 5 10 15 20 25]]\n"
     ]
    }
   ],
   "source": [
    "#aggregates like reduce, accumulate, outer\n",
    "x = np.arange(1,6)\n",
    "print(np.add.reduce(x))\n",
    "print(np.multiply.reduce(x))\n",
    "print(np.add.accumulate(x))\n",
    "print(np.multiply.accumulate(x))\n",
    "print(np.multiply.outer(x,x))"
   ]
  },
  {
   "cell_type": "code",
   "execution_count": 11,
   "metadata": {},
   "outputs": [
    {
     "name": "stdout",
     "output_type": "stream",
     "text": [
      "47.23667917192546\n",
      "0.9999778452090398\n",
      "1.4618569125435243e-05\n",
      "[[0.78079815 0.0631284  0.43856358 0.32974972]\n",
      " [0.23039523 0.3155974  0.38551725 0.33281114]\n",
      " [0.87458746 0.7314638  0.99504376 0.84022477]]\n",
      "0.9950437570658559\n",
      "[0.87458746 0.7314638  0.99504376 0.84022477]\n",
      "[0.0631284  0.23039523 0.7314638 ]\n",
      "179.9\n",
      "194\n",
      "165\n",
      "179.5\n",
      "173.0\n",
      "187.25\n"
     ]
    }
   ],
   "source": [
    "#Aggregations\n",
    "np.random.seed(100)\n",
    "#numpy aggregates are faster than python's built in functions\n",
    "L=np.random.random(100)\n",
    "print(np.sum(L))\n",
    "# %timeit sum(L)\n",
    "# %timeit sum(L)\n",
    "\n",
    "big_array = np.random.random(10000)\n",
    "print(np.max(big_array))\n",
    "print(np.min(big_array))\n",
    "\n",
    "#multi-dimensional aggregates\n",
    "m = np.random.random((3,4))\n",
    "print(m)\n",
    "print(np.max(m))\n",
    "print(np.max(m, axis = 0))\n",
    "print(np.min(m, axis = 1))\n",
    "\n",
    "heights = np.random.randint(165, 195, 40)\n",
    "print(heights.mean())\n",
    "print(heights.max())\n",
    "print(heights.min())\n",
    "print(np.median(heights))\n",
    "print(np.percentile(heights, 25))\n",
    "print(np.percentile(heights, 75))"
   ]
  },
  {
   "cell_type": "code",
   "execution_count": 12,
   "metadata": {},
   "outputs": [
    {
     "name": "stdout",
     "output_type": "stream",
     "text": [
      "[[1. 2. 3.]\n",
      " [1. 2. 3.]\n",
      " [1. 2. 3.]]\n",
      "[[0 1 2]\n",
      " [1 2 3]\n",
      " [2 3 4]]\n",
      "[[1. 2. 3.]\n",
      " [1. 2. 3.]]\n",
      "[[0 1 2]\n",
      " [1 2 3]\n",
      " [2 3 4]]\n",
      "[[0.32934097 0.1463945  0.09409146]\n",
      " [0.80132735 0.7807591  0.02179517]\n",
      " [0.03205985 0.89143885 0.71103799]\n",
      " [0.28829586 0.26469191 0.58766818]\n",
      " [0.26270796 0.66366577 0.0810968 ]\n",
      " [0.68316547 0.53505198 0.09941671]\n",
      " [0.32414402 0.05058435 0.58846149]\n",
      " [0.81131195 0.04144796 0.74452354]\n",
      " [0.1747717  0.91948267 0.33171649]\n",
      " [0.40719949 0.54363348 0.54336548]] [0.41143246 0.48371506 0.38031733] [[-0.08209149 -0.33732055 -0.28622587]\n",
      " [ 0.38989489  0.29704404 -0.35852216]\n",
      " [-0.37937261  0.40772379  0.33072066]\n",
      " [-0.1231366  -0.21902315  0.20735085]\n",
      " [-0.1487245   0.17995072 -0.29922053]\n",
      " [ 0.27173301  0.05133692 -0.28090062]\n",
      " [-0.08728845 -0.43313071  0.20814416]\n",
      " [ 0.39987949 -0.4422671   0.36420621]\n",
      " [-0.23666076  0.43576762 -0.04860084]\n",
      " [-0.00423298  0.05991842  0.16304815]]\n"
     ]
    }
   ],
   "source": [
    "#broadcasting\n",
    "a = np.array([0,1,2])\n",
    "b = np.array([5, 5, 5])\n",
    "M = np.ones((3,3))\n",
    "print(M+a)\n",
    "a = np.arange(3)\n",
    "b = np.arange(3)[:, np.newaxis]\n",
    "print(a+b)\n",
    "#both a and b are stretched to aquire a geometry that would ease the operation, this is broadcasting\n",
    "\n",
    "#broadcasting rules\n",
    "#1 if the two arrays differ in their number of dimensions, the shape of the one with fewer dimensions is padded with ones on its leading (left) side.\n",
    "M = np.ones((2, 3))\n",
    "a = np.arange(3)\n",
    "print(M+a)\n",
    "\n",
    "#2 If the shape of the two arrays does not match in any dimension, the array with shape equal to 1 in that dimension is stretched to match the other shape.\n",
    "a = np.arange(3).reshape((3, 1))\n",
    "b = np.arange(3) #has dimension (3,) and not (3,1) since numpy 1d arrays has only one axis\n",
    "print(a+b)\n",
    "\n",
    "#3 broadcasting falls apart if its's not feasible to attain equal gemoetry\n",
    "\n",
    "#Centering of array using broadcasting\n",
    "a = np.random.random((10,3))\n",
    "amean = a.mean(axis = 0)\n",
    "acentred = a - amean\n",
    "print(a, amean, acentred)\n"
   ]
  },
  {
   "cell_type": "code",
   "execution_count": 27,
   "metadata": {},
   "outputs": [
    {
     "name": "stdout",
     "output_type": "stream",
     "text": [
      "[ True  True False False False] [False False False  True  True] [ True  True  True False False] [False False  True  True  True] [ True  True False  True  True] [False False  True False False]\n",
      "[False  True False False False]\n",
      "[[6 3 7 4]\n",
      " [6 9 2 6]\n",
      " [7 4 3 7]]\n",
      "[[False  True False  True]\n",
      " [False False  True False]\n",
      " [False  True  True False]]\n",
      "5\n",
      "5\n",
      "[2 1 2]\n",
      "True\n",
      "False\n",
      "[ True False  True]\n",
      "6\n",
      "[7 7 9]\n"
     ]
    }
   ],
   "source": [
    "# comparison operators\n",
    "\n",
    "x = np.array([1,2,3,4,5])\n",
    "print(x<3, x>3, x<=3, x>=3, x!=3, x==3)\n",
    "print((2 * x) == (x ** 2))\n",
    "\n",
    "np.random.seed(42)\n",
    "x = np.random.randint(10, size=(3, 4))\n",
    "print(x)\n",
    "print(x < 6)\n",
    "\n",
    "\n",
    "#counting no of true entries \n",
    "count = np.count_nonzero(x<6)\n",
    "print(count)\n",
    "sum = np.sum(x<6)\n",
    "print(sum)\n",
    "sum = np.sum(x < 6, axis = 1)#true entries in each row\n",
    "print(sum)\n",
    "print(np.any(x > 8))\n",
    "print(np.all(x == 6))\n",
    "print(np.all(x < 8, axis=1))\n",
    "print(np.sum((x > 5) & (x < 8)))#using logical operators\n",
    "\n",
    "#Maksing\n",
    "x = np.random.randint(10, size = (3,4), dtype=int)\n",
    "print(x[x>5])"
   ]
  },
  {
   "cell_type": "code",
   "execution_count": 32,
   "metadata": {},
   "outputs": [
    {
     "name": "stdout",
     "output_type": "stream",
     "text": [
      "[49 53  3]\n",
      "[[ 0  1  2  3]\n",
      " [ 4  5  6  7]\n",
      " [ 8  9 10 11]]\n",
      "[ 2  5 11]\n",
      "[[ 2  1  3]\n",
      " [ 6  5  7]\n",
      " [10  9 11]]\n"
     ]
    }
   ],
   "source": [
    "#Fancy indexing\n",
    "np.random.randint(42)\n",
    "x = np.random.randint(100, size = 10)\n",
    "ind = [3,7,4]\n",
    "print(x[ind])\n",
    "ind = np.array([[3,7], [4,5]])\n",
    "x[ind]\n",
    "X = np.arange(12).reshape((3, 4))\n",
    "print(X)\n",
    "row = np.array([0, 1, 2])\n",
    "col = np.array([2, 1, 3])\n",
    "print(X[row, col])\n",
    "print(X[row[:, np.newaxis], col])\n"
   ]
  },
  {
   "cell_type": "code",
   "execution_count": null,
   "metadata": {},
   "outputs": [
    {
     "name": "stdout",
     "output_type": "stream",
     "text": [
      "[50  6 20 72 38 17  3 88 59 13]\n"
     ]
    }
   ],
   "source": [
    "#combined indexing\n",
    "print(X)"
   ]
  }
 ],
 "metadata": {
  "kernelspec": {
   "display_name": "base",
   "language": "python",
   "name": "python3"
  },
  "language_info": {
   "codemirror_mode": {
    "name": "ipython",
    "version": 3
   },
   "file_extension": ".py",
   "mimetype": "text/x-python",
   "name": "python",
   "nbconvert_exporter": "python",
   "pygments_lexer": "ipython3",
   "version": "3.12.7"
  }
 },
 "nbformat": 4,
 "nbformat_minor": 4
}
